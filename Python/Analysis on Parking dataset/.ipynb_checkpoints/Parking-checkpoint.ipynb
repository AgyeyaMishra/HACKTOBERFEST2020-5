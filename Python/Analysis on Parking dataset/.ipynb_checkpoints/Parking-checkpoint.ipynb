{
 "cells": [
  {
   "cell_type": "code",
   "execution_count": 1,
   "metadata": {},
   "outputs": [],
   "source": [
    "import pandas as pd\n",
    "import matplotlib.pyplot as plt\n",
    "%matplotlib inline"
   ]
  },
  {
   "cell_type": "code",
   "execution_count": 2,
   "metadata": {},
   "outputs": [],
   "source": [
    "parking = pd.read_excel('parking.xls')"
   ]
  },
  {
   "cell_type": "code",
   "execution_count": 3,
   "metadata": {},
   "outputs": [
    {
     "data": {
      "text/html": [
       "<div>\n",
       "<style scoped>\n",
       "    .dataframe tbody tr th:only-of-type {\n",
       "        vertical-align: middle;\n",
       "    }\n",
       "\n",
       "    .dataframe tbody tr th {\n",
       "        vertical-align: top;\n",
       "    }\n",
       "\n",
       "    .dataframe thead th {\n",
       "        text-align: right;\n",
       "    }\n",
       "</style>\n",
       "<table border=\"1\" class=\"dataframe\">\n",
       "  <thead>\n",
       "    <tr style=\"text-align: right;\">\n",
       "      <th></th>\n",
       "      <th>Bldg City</th>\n",
       "      <th>Bldg State</th>\n",
       "      <th>Bldg Status</th>\n",
       "      <th>Property Type</th>\n",
       "      <th>Total Parking Spaces</th>\n",
       "      <th>Owned/Leased</th>\n",
       "    </tr>\n",
       "  </thead>\n",
       "  <tbody>\n",
       "    <tr>\n",
       "      <th>0</th>\n",
       "      <td>HARTFORD</td>\n",
       "      <td>CT</td>\n",
       "      <td>ACTIVE</td>\n",
       "      <td>BUILDING</td>\n",
       "      <td>29</td>\n",
       "      <td>OWNED</td>\n",
       "    </tr>\n",
       "    <tr>\n",
       "      <th>1</th>\n",
       "      <td>NEW HAVEN</td>\n",
       "      <td>CT</td>\n",
       "      <td>ACTIVE</td>\n",
       "      <td>BUILDING</td>\n",
       "      <td>0</td>\n",
       "      <td>OWNED</td>\n",
       "    </tr>\n",
       "    <tr>\n",
       "      <th>2</th>\n",
       "      <td>WATERBURY</td>\n",
       "      <td>CT</td>\n",
       "      <td>ACTIVE</td>\n",
       "      <td>BUILDING</td>\n",
       "      <td>2</td>\n",
       "      <td>LEASED</td>\n",
       "    </tr>\n",
       "    <tr>\n",
       "      <th>3</th>\n",
       "      <td>WILLIMANTIC</td>\n",
       "      <td>CT</td>\n",
       "      <td>ACTIVE</td>\n",
       "      <td>BUILDING</td>\n",
       "      <td>0</td>\n",
       "      <td>LEASED</td>\n",
       "    </tr>\n",
       "    <tr>\n",
       "      <th>4</th>\n",
       "      <td>HARTFORD</td>\n",
       "      <td>CT</td>\n",
       "      <td>ACTIVE</td>\n",
       "      <td>BUILDING</td>\n",
       "      <td>103</td>\n",
       "      <td>OWNED</td>\n",
       "    </tr>\n",
       "  </tbody>\n",
       "</table>\n",
       "</div>"
      ],
      "text/plain": [
       "     Bldg City Bldg State Bldg Status Property Type  Total Parking Spaces  \\\n",
       "0     HARTFORD         CT      ACTIVE      BUILDING                    29   \n",
       "1    NEW HAVEN         CT      ACTIVE      BUILDING                     0   \n",
       "2    WATERBURY         CT      ACTIVE      BUILDING                     2   \n",
       "3  WILLIMANTIC         CT      ACTIVE      BUILDING                     0   \n",
       "4     HARTFORD         CT      ACTIVE      BUILDING                   103   \n",
       "\n",
       "  Owned/Leased  \n",
       "0        OWNED  \n",
       "1        OWNED  \n",
       "2       LEASED  \n",
       "3       LEASED  \n",
       "4        OWNED  "
      ]
     },
     "execution_count": 3,
     "metadata": {},
     "output_type": "execute_result"
    }
   ],
   "source": [
    "parking.head()"
   ]
  },
  {
   "cell_type": "code",
   "execution_count": 4,
   "metadata": {},
   "outputs": [
    {
     "data": {
      "text/html": [
       "<div>\n",
       "<style scoped>\n",
       "    .dataframe tbody tr th:only-of-type {\n",
       "        vertical-align: middle;\n",
       "    }\n",
       "\n",
       "    .dataframe tbody tr th {\n",
       "        vertical-align: top;\n",
       "    }\n",
       "\n",
       "    .dataframe thead th {\n",
       "        text-align: right;\n",
       "    }\n",
       "</style>\n",
       "<table border=\"1\" class=\"dataframe\">\n",
       "  <thead>\n",
       "    <tr style=\"text-align: right;\">\n",
       "      <th></th>\n",
       "      <th>Bldg City</th>\n",
       "      <th>Bldg State</th>\n",
       "      <th>Bldg Status</th>\n",
       "      <th>Property Type</th>\n",
       "      <th>Total Parking Spaces</th>\n",
       "      <th>Owned/Leased</th>\n",
       "    </tr>\n",
       "  </thead>\n",
       "  <tbody>\n",
       "    <tr>\n",
       "      <th>9055</th>\n",
       "      <td>FALLON</td>\n",
       "      <td>NV</td>\n",
       "      <td>ACTIVE</td>\n",
       "      <td>BUILDING</td>\n",
       "      <td>12</td>\n",
       "      <td>LEASED</td>\n",
       "    </tr>\n",
       "    <tr>\n",
       "      <th>9056</th>\n",
       "      <td>ELKO</td>\n",
       "      <td>NV</td>\n",
       "      <td>ACTIVE</td>\n",
       "      <td>BUILDING</td>\n",
       "      <td>2</td>\n",
       "      <td>LEASED</td>\n",
       "    </tr>\n",
       "    <tr>\n",
       "      <th>9057</th>\n",
       "      <td>LAS VEGAS</td>\n",
       "      <td>NV</td>\n",
       "      <td>ACTIVE</td>\n",
       "      <td>BUILDING</td>\n",
       "      <td>3</td>\n",
       "      <td>LEASED</td>\n",
       "    </tr>\n",
       "    <tr>\n",
       "      <th>9058</th>\n",
       "      <td>LAS VEGAS</td>\n",
       "      <td>NV</td>\n",
       "      <td>ACTIVE</td>\n",
       "      <td>BUILDING</td>\n",
       "      <td>24</td>\n",
       "      <td>LEASED</td>\n",
       "    </tr>\n",
       "    <tr>\n",
       "      <th>9059</th>\n",
       "      <td>LAS VEGAS</td>\n",
       "      <td>NV</td>\n",
       "      <td>ACTIVE</td>\n",
       "      <td>BUILDING</td>\n",
       "      <td>7</td>\n",
       "      <td>LEASED</td>\n",
       "    </tr>\n",
       "  </tbody>\n",
       "</table>\n",
       "</div>"
      ],
      "text/plain": [
       "      Bldg City Bldg State Bldg Status Property Type  Total Parking Spaces  \\\n",
       "9055     FALLON         NV      ACTIVE      BUILDING                    12   \n",
       "9056       ELKO         NV      ACTIVE      BUILDING                     2   \n",
       "9057  LAS VEGAS         NV      ACTIVE      BUILDING                     3   \n",
       "9058  LAS VEGAS         NV      ACTIVE      BUILDING                    24   \n",
       "9059  LAS VEGAS         NV      ACTIVE      BUILDING                     7   \n",
       "\n",
       "     Owned/Leased  \n",
       "9055       LEASED  \n",
       "9056       LEASED  \n",
       "9057       LEASED  \n",
       "9058       LEASED  \n",
       "9059       LEASED  "
      ]
     },
     "execution_count": 4,
     "metadata": {},
     "output_type": "execute_result"
    }
   ],
   "source": [
    "parking.tail()"
   ]
  },
  {
   "cell_type": "code",
   "execution_count": 6,
   "metadata": {},
   "outputs": [
    {
     "data": {
      "text/plain": [
       "ACTIVE            8981\n",
       "EXCESS              70\n",
       "DECOMMISSIONED       9\n",
       "Name: Bldg Status, dtype: int64"
      ]
     },
     "execution_count": 6,
     "metadata": {},
     "output_type": "execute_result"
    }
   ],
   "source": [
    "parking['Bldg Status'].value_counts()"
   ]
  },
  {
   "cell_type": "code",
   "execution_count": 7,
   "metadata": {},
   "outputs": [
    {
     "data": {
      "text/plain": [
       "BUILDING     8602\n",
       "STRUCTURE     339\n",
       "LAND          119\n",
       "Name: Property Type, dtype: int64"
      ]
     },
     "execution_count": 7,
     "metadata": {},
     "output_type": "execute_result"
    }
   ],
   "source": [
    "parking['Property Type'].value_counts()"
   ]
  },
  {
   "cell_type": "code",
   "execution_count": 8,
   "metadata": {},
   "outputs": [
    {
     "data": {
      "text/plain": [
       "WASHINGTON      487\n",
       "EL PASO          89\n",
       "LAREDO           81\n",
       "LAKEWOOD         79\n",
       "SPRINGFIELD      79\n",
       "               ... \n",
       "DANIA             1\n",
       "MOSS POINT        1\n",
       "BRIGHTON          1\n",
       "BOGART            1\n",
       "CORAL GABLES      1\n",
       "Name: Bldg City, Length: 1900, dtype: int64"
      ]
     },
     "execution_count": 8,
     "metadata": {},
     "output_type": "execute_result"
    }
   ],
   "source": [
    "parking['Bldg City'].value_counts()"
   ]
  },
  {
   "cell_type": "code",
   "execution_count": 9,
   "metadata": {},
   "outputs": [
    {
     "data": {
      "text/plain": [
       "TX    886\n",
       "CA    746\n",
       "DC    486\n",
       "VA    440\n",
       "FL    413\n",
       "MD    403\n",
       "NY    367\n",
       "PA    245\n",
       "CO    242\n",
       "WA    242\n",
       "IL    241\n",
       "MI    235\n",
       "AZ    222\n",
       "GA    218\n",
       "NC    212\n",
       "MO    209\n",
       "OH    201\n",
       "IN    157\n",
       "TN    152\n",
       "MT    150\n",
       "LA    149\n",
       "NJ    146\n",
       "KY    137\n",
       "NM    136\n",
       "OK    130\n",
       "MA    127\n",
       "AL    124\n",
       "WI    122\n",
       "WV    106\n",
       "OR    105\n",
       "MN     98\n",
       "ME     97\n",
       "UT     96\n",
       "SC     95\n",
       "MS     87\n",
       "AR     83\n",
       "ND     80\n",
       "NV     75\n",
       "VT     75\n",
       "IA     74\n",
       "KS     74\n",
       "SD     66\n",
       "ID     63\n",
       "CT     58\n",
       "NE     51\n",
       "WY     45\n",
       "NH     39\n",
       "DE     28\n",
       "RI     27\n",
       "Name: Bldg State, dtype: int64"
      ]
     },
     "execution_count": 9,
     "metadata": {},
     "output_type": "execute_result"
    }
   ],
   "source": [
    "parking['Bldg State'].value_counts()"
   ]
  },
  {
   "cell_type": "code",
   "execution_count": 77,
   "metadata": {},
   "outputs": [
    {
     "data": {
      "text/plain": [
       "LEASED    6940\n",
       "OWNED     2120\n",
       "Name: Owned/Leased, dtype: int64"
      ]
     },
     "execution_count": 77,
     "metadata": {},
     "output_type": "execute_result"
    }
   ],
   "source": [
    "parking['Owned/Leased'].value_counts()"
   ]
  },
  {
   "cell_type": "code",
   "execution_count": 11,
   "metadata": {},
   "outputs": [
    {
     "data": {
      "text/plain": [
       "Index(['Bldg City', 'Bldg State', 'Bldg Status', 'Property Type',\n",
       "       'Total Parking Spaces', 'Owned/Leased'],\n",
       "      dtype='object')"
      ]
     },
     "execution_count": 11,
     "metadata": {},
     "output_type": "execute_result"
    }
   ],
   "source": [
    "parking.columns"
   ]
  },
  {
   "cell_type": "markdown",
   "metadata": {},
   "source": [
    "## Q1. What is the distribution or values for owned/leased"
   ]
  },
  {
   "cell_type": "code",
   "execution_count": 83,
   "metadata": {},
   "outputs": [
    {
     "data": {
      "text/plain": [
       "<BarContainer object of 9060 artists>"
      ]
     },
     "execution_count": 83,
     "metadata": {},
     "output_type": "execute_result"
    },
    {
     "data": {
      "image/png": "[encoded data removed]",
      "text/plain": [
       "<Figure size 432x288 with 1 Axes>"
      ]
     },
     "metadata": {
      "needs_background": "light"
     },
     "output_type": "display_data"
    }
   ],
   "source": [
    "plt.bar(parking['Owned/Leased'], parking['Total Parking Spaces'])\n",
    "#count based on total parking space"
   ]
  },
  {
   "cell_type": "code",
   "execution_count": 39,
   "metadata": {},
   "outputs": [],
   "source": [
    "#takes less time \n",
    "owned_leased = pd.pivot_table(parking, index= 'Owned/Leased', values='Total Parking Spaces', aggfunc='count')"
   ]
  },
  {
   "cell_type": "code",
   "execution_count": 40,
   "metadata": {},
   "outputs": [
    {
     "data": {
      "text/html": [
       "<div>\n",
       "<style scoped>\n",
       "    .dataframe tbody tr th:only-of-type {\n",
       "        vertical-align: middle;\n",
       "    }\n",
       "\n",
       "    .dataframe tbody tr th {\n",
       "        vertical-align: top;\n",
       "    }\n",
       "\n",
       "    .dataframe thead th {\n",
       "        text-align: right;\n",
       "    }\n",
       "</style>\n",
       "<table border=\"1\" class=\"dataframe\">\n",
       "  <thead>\n",
       "    <tr style=\"text-align: right;\">\n",
       "      <th></th>\n",
       "      <th>Total Parking Spaces</th>\n",
       "    </tr>\n",
       "    <tr>\n",
       "      <th>Owned/Leased</th>\n",
       "      <th></th>\n",
       "    </tr>\n",
       "  </thead>\n",
       "  <tbody>\n",
       "    <tr>\n",
       "      <th>LEASED</th>\n",
       "      <td>6940</td>\n",
       "    </tr>\n",
       "    <tr>\n",
       "      <th>OWNED</th>\n",
       "      <td>2120</td>\n",
       "    </tr>\n",
       "  </tbody>\n",
       "</table>\n",
       "</div>"
      ],
      "text/plain": [
       "              Total Parking Spaces\n",
       "Owned/Leased                      \n",
       "LEASED                        6940\n",
       "OWNED                         2120"
      ]
     },
     "execution_count": 40,
     "metadata": {},
     "output_type": "execute_result"
    }
   ],
   "source": [
    "owned_leased"
   ]
  },
  {
   "cell_type": "code",
   "execution_count": 41,
   "metadata": {},
   "outputs": [
    {
     "data": {
      "text/plain": [
       "<matplotlib.axes._subplots.AxesSubplot at 0x1a6f0d044c8>"
      ]
     },
     "execution_count": 41,
     "metadata": {},
     "output_type": "execute_result"
    },
    {
     "data": {
      "image/png": "[encoded data removed]",
      "text/plain": [
       "<Figure size 432x288 with 1 Axes>"
      ]
     },
     "metadata": {
      "needs_background": "light"
     },
     "output_type": "display_data"
    }
   ],
   "source": [
    "owned_leased.plot(kind = 'bar')\n",
    "#just the count "
   ]
  },
  {
   "cell_type": "code",
   "execution_count": 86,
   "metadata": {},
   "outputs": [
    {
     "data": {
      "text/plain": [
       "<BarContainer object of 2 artists>"
      ]
     },
     "execution_count": 86,
     "metadata": {},
     "output_type": "execute_result"
    },
    {
     "data": {
      "image/png": "[encoded data removed]",
      "text/plain": [
       "<Figure size 432x288 with 1 Axes>"
      ]
     },
     "metadata": {
      "needs_background": "light"
     },
     "output_type": "display_data"
    }
   ],
   "source": [
    "plt.bar(owned_leased.index, owned_leased['Total Parking Spaces'])\n",
    "#same as above"
   ]
  },
  {
   "cell_type": "markdown",
   "metadata": {},
   "source": [
    "## Q2 In which building state parking situation is in access - Put it in Order"
   ]
  },
  {
   "cell_type": "code",
   "execution_count": 87,
   "metadata": {},
   "outputs": [
    {
     "data": {
      "text/html": [
       "<div>\n",
       "<style scoped>\n",
       "    .dataframe tbody tr th:only-of-type {\n",
       "        vertical-align: middle;\n",
       "    }\n",
       "\n",
       "    .dataframe tbody tr th {\n",
       "        vertical-align: top;\n",
       "    }\n",
       "\n",
       "    .dataframe thead th {\n",
       "        text-align: right;\n",
       "    }\n",
       "</style>\n",
       "<table border=\"1\" class=\"dataframe\">\n",
       "  <thead>\n",
       "    <tr style=\"text-align: right;\">\n",
       "      <th></th>\n",
       "      <th>Bldg City</th>\n",
       "      <th>Bldg State</th>\n",
       "      <th>Bldg Status</th>\n",
       "      <th>Property Type</th>\n",
       "      <th>Total Parking Spaces</th>\n",
       "      <th>Owned/Leased</th>\n",
       "    </tr>\n",
       "  </thead>\n",
       "  <tbody>\n",
       "    <tr>\n",
       "      <th>0</th>\n",
       "      <td>HARTFORD</td>\n",
       "      <td>CT</td>\n",
       "      <td>ACTIVE</td>\n",
       "      <td>BUILDING</td>\n",
       "      <td>29</td>\n",
       "      <td>OWNED</td>\n",
       "    </tr>\n",
       "    <tr>\n",
       "      <th>1</th>\n",
       "      <td>NEW HAVEN</td>\n",
       "      <td>CT</td>\n",
       "      <td>ACTIVE</td>\n",
       "      <td>BUILDING</td>\n",
       "      <td>0</td>\n",
       "      <td>OWNED</td>\n",
       "    </tr>\n",
       "    <tr>\n",
       "      <th>2</th>\n",
       "      <td>WATERBURY</td>\n",
       "      <td>CT</td>\n",
       "      <td>ACTIVE</td>\n",
       "      <td>BUILDING</td>\n",
       "      <td>2</td>\n",
       "      <td>LEASED</td>\n",
       "    </tr>\n",
       "    <tr>\n",
       "      <th>3</th>\n",
       "      <td>WILLIMANTIC</td>\n",
       "      <td>CT</td>\n",
       "      <td>ACTIVE</td>\n",
       "      <td>BUILDING</td>\n",
       "      <td>0</td>\n",
       "      <td>LEASED</td>\n",
       "    </tr>\n",
       "    <tr>\n",
       "      <th>4</th>\n",
       "      <td>HARTFORD</td>\n",
       "      <td>CT</td>\n",
       "      <td>ACTIVE</td>\n",
       "      <td>BUILDING</td>\n",
       "      <td>103</td>\n",
       "      <td>OWNED</td>\n",
       "    </tr>\n",
       "  </tbody>\n",
       "</table>\n",
       "</div>"
      ],
      "text/plain": [
       "     Bldg City Bldg State Bldg Status Property Type  Total Parking Spaces  \\\n",
       "0     HARTFORD         CT      ACTIVE      BUILDING                    29   \n",
       "1    NEW HAVEN         CT      ACTIVE      BUILDING                     0   \n",
       "2    WATERBURY         CT      ACTIVE      BUILDING                     2   \n",
       "3  WILLIMANTIC         CT      ACTIVE      BUILDING                     0   \n",
       "4     HARTFORD         CT      ACTIVE      BUILDING                   103   \n",
       "\n",
       "  Owned/Leased  \n",
       "0        OWNED  \n",
       "1        OWNED  \n",
       "2       LEASED  \n",
       "3       LEASED  \n",
       "4        OWNED  "
      ]
     },
     "execution_count": 87,
     "metadata": {},
     "output_type": "execute_result"
    }
   ],
   "source": [
    "parking.head()"
   ]
  },
  {
   "cell_type": "code",
   "execution_count": 88,
   "metadata": {},
   "outputs": [],
   "source": [
    "excess_parking = pd.pivot_table(parking, index = 'Bldg State', columns='Bldg Status', values=\"Total Parking Spaces\")"
   ]
  },
  {
   "cell_type": "code",
   "execution_count": 89,
   "metadata": {},
   "outputs": [
    {
     "data": {
      "text/html": [
       "<div>\n",
       "<style scoped>\n",
       "    .dataframe tbody tr th:only-of-type {\n",
       "        vertical-align: middle;\n",
       "    }\n",
       "\n",
       "    .dataframe tbody tr th {\n",
       "        vertical-align: top;\n",
       "    }\n",
       "\n",
       "    .dataframe thead th {\n",
       "        text-align: right;\n",
       "    }\n",
       "</style>\n",
       "<table border=\"1\" class=\"dataframe\">\n",
       "  <thead>\n",
       "    <tr style=\"text-align: right;\">\n",
       "      <th>Bldg Status</th>\n",
       "      <th>ACTIVE</th>\n",
       "      <th>DECOMMISSIONED</th>\n",
       "      <th>EXCESS</th>\n",
       "    </tr>\n",
       "    <tr>\n",
       "      <th>Bldg State</th>\n",
       "      <th></th>\n",
       "      <th></th>\n",
       "      <th></th>\n",
       "    </tr>\n",
       "  </thead>\n",
       "  <tbody>\n",
       "    <tr>\n",
       "      <th>AL</th>\n",
       "      <td>62.357724</td>\n",
       "      <td>NaN</td>\n",
       "      <td>59.000000</td>\n",
       "    </tr>\n",
       "    <tr>\n",
       "      <th>AR</th>\n",
       "      <td>37.000000</td>\n",
       "      <td>NaN</td>\n",
       "      <td>NaN</td>\n",
       "    </tr>\n",
       "    <tr>\n",
       "      <th>AZ</th>\n",
       "      <td>32.256757</td>\n",
       "      <td>NaN</td>\n",
       "      <td>NaN</td>\n",
       "    </tr>\n",
       "    <tr>\n",
       "      <th>CA</th>\n",
       "      <td>60.493298</td>\n",
       "      <td>NaN</td>\n",
       "      <td>NaN</td>\n",
       "    </tr>\n",
       "    <tr>\n",
       "      <th>CO</th>\n",
       "      <td>78.936709</td>\n",
       "      <td>NaN</td>\n",
       "      <td>22.200000</td>\n",
       "    </tr>\n",
       "    <tr>\n",
       "      <th>CT</th>\n",
       "      <td>29.327586</td>\n",
       "      <td>NaN</td>\n",
       "      <td>NaN</td>\n",
       "    </tr>\n",
       "    <tr>\n",
       "      <th>DC</th>\n",
       "      <td>41.255144</td>\n",
       "      <td>NaN</td>\n",
       "      <td>NaN</td>\n",
       "    </tr>\n",
       "    <tr>\n",
       "      <th>DE</th>\n",
       "      <td>15.750000</td>\n",
       "      <td>NaN</td>\n",
       "      <td>NaN</td>\n",
       "    </tr>\n",
       "    <tr>\n",
       "      <th>FL</th>\n",
       "      <td>51.905569</td>\n",
       "      <td>NaN</td>\n",
       "      <td>NaN</td>\n",
       "    </tr>\n",
       "    <tr>\n",
       "      <th>GA</th>\n",
       "      <td>76.408257</td>\n",
       "      <td>NaN</td>\n",
       "      <td>NaN</td>\n",
       "    </tr>\n",
       "    <tr>\n",
       "      <th>IA</th>\n",
       "      <td>27.202703</td>\n",
       "      <td>NaN</td>\n",
       "      <td>NaN</td>\n",
       "    </tr>\n",
       "    <tr>\n",
       "      <th>ID</th>\n",
       "      <td>39.274194</td>\n",
       "      <td>0.000000</td>\n",
       "      <td>NaN</td>\n",
       "    </tr>\n",
       "    <tr>\n",
       "      <th>IL</th>\n",
       "      <td>45.000000</td>\n",
       "      <td>NaN</td>\n",
       "      <td>21.000000</td>\n",
       "    </tr>\n",
       "    <tr>\n",
       "      <th>IN</th>\n",
       "      <td>44.069444</td>\n",
       "      <td>NaN</td>\n",
       "      <td>0.000000</td>\n",
       "    </tr>\n",
       "    <tr>\n",
       "      <th>KS</th>\n",
       "      <td>55.216216</td>\n",
       "      <td>NaN</td>\n",
       "      <td>NaN</td>\n",
       "    </tr>\n",
       "    <tr>\n",
       "      <th>KY</th>\n",
       "      <td>46.277372</td>\n",
       "      <td>NaN</td>\n",
       "      <td>NaN</td>\n",
       "    </tr>\n",
       "    <tr>\n",
       "      <th>LA</th>\n",
       "      <td>43.684932</td>\n",
       "      <td>NaN</td>\n",
       "      <td>68.666667</td>\n",
       "    </tr>\n",
       "    <tr>\n",
       "      <th>MA</th>\n",
       "      <td>55.905512</td>\n",
       "      <td>NaN</td>\n",
       "      <td>NaN</td>\n",
       "    </tr>\n",
       "    <tr>\n",
       "      <th>MD</th>\n",
       "      <td>104.185090</td>\n",
       "      <td>0.000000</td>\n",
       "      <td>43.166667</td>\n",
       "    </tr>\n",
       "    <tr>\n",
       "      <th>ME</th>\n",
       "      <td>16.917526</td>\n",
       "      <td>NaN</td>\n",
       "      <td>NaN</td>\n",
       "    </tr>\n",
       "    <tr>\n",
       "      <th>MI</th>\n",
       "      <td>41.608511</td>\n",
       "      <td>NaN</td>\n",
       "      <td>NaN</td>\n",
       "    </tr>\n",
       "    <tr>\n",
       "      <th>MN</th>\n",
       "      <td>43.418367</td>\n",
       "      <td>NaN</td>\n",
       "      <td>NaN</td>\n",
       "    </tr>\n",
       "    <tr>\n",
       "      <th>MO</th>\n",
       "      <td>121.200000</td>\n",
       "      <td>815.333333</td>\n",
       "      <td>254.272727</td>\n",
       "    </tr>\n",
       "    <tr>\n",
       "      <th>MS</th>\n",
       "      <td>43.908046</td>\n",
       "      <td>NaN</td>\n",
       "      <td>NaN</td>\n",
       "    </tr>\n",
       "    <tr>\n",
       "      <th>MT</th>\n",
       "      <td>15.326667</td>\n",
       "      <td>NaN</td>\n",
       "      <td>NaN</td>\n",
       "    </tr>\n",
       "    <tr>\n",
       "      <th>NC</th>\n",
       "      <td>34.995283</td>\n",
       "      <td>NaN</td>\n",
       "      <td>NaN</td>\n",
       "    </tr>\n",
       "    <tr>\n",
       "      <th>ND</th>\n",
       "      <td>13.475000</td>\n",
       "      <td>NaN</td>\n",
       "      <td>NaN</td>\n",
       "    </tr>\n",
       "    <tr>\n",
       "      <th>NE</th>\n",
       "      <td>54.060000</td>\n",
       "      <td>NaN</td>\n",
       "      <td>19.000000</td>\n",
       "    </tr>\n",
       "    <tr>\n",
       "      <th>NH</th>\n",
       "      <td>43.666667</td>\n",
       "      <td>NaN</td>\n",
       "      <td>NaN</td>\n",
       "    </tr>\n",
       "    <tr>\n",
       "      <th>NJ</th>\n",
       "      <td>32.169118</td>\n",
       "      <td>NaN</td>\n",
       "      <td>4.300000</td>\n",
       "    </tr>\n",
       "    <tr>\n",
       "      <th>NM</th>\n",
       "      <td>45.742647</td>\n",
       "      <td>NaN</td>\n",
       "      <td>NaN</td>\n",
       "    </tr>\n",
       "    <tr>\n",
       "      <th>NV</th>\n",
       "      <td>48.648649</td>\n",
       "      <td>NaN</td>\n",
       "      <td>173.000000</td>\n",
       "    </tr>\n",
       "    <tr>\n",
       "      <th>NY</th>\n",
       "      <td>39.635854</td>\n",
       "      <td>0.000000</td>\n",
       "      <td>0.000000</td>\n",
       "    </tr>\n",
       "    <tr>\n",
       "      <th>OH</th>\n",
       "      <td>38.621891</td>\n",
       "      <td>NaN</td>\n",
       "      <td>NaN</td>\n",
       "    </tr>\n",
       "    <tr>\n",
       "      <th>OK</th>\n",
       "      <td>39.108527</td>\n",
       "      <td>NaN</td>\n",
       "      <td>14.000000</td>\n",
       "    </tr>\n",
       "    <tr>\n",
       "      <th>OR</th>\n",
       "      <td>31.828571</td>\n",
       "      <td>NaN</td>\n",
       "      <td>NaN</td>\n",
       "    </tr>\n",
       "    <tr>\n",
       "      <th>PA</th>\n",
       "      <td>38.315574</td>\n",
       "      <td>NaN</td>\n",
       "      <td>0.000000</td>\n",
       "    </tr>\n",
       "    <tr>\n",
       "      <th>RI</th>\n",
       "      <td>25.148148</td>\n",
       "      <td>NaN</td>\n",
       "      <td>NaN</td>\n",
       "    </tr>\n",
       "    <tr>\n",
       "      <th>SC</th>\n",
       "      <td>36.768421</td>\n",
       "      <td>NaN</td>\n",
       "      <td>NaN</td>\n",
       "    </tr>\n",
       "    <tr>\n",
       "      <th>SD</th>\n",
       "      <td>22.742424</td>\n",
       "      <td>NaN</td>\n",
       "      <td>NaN</td>\n",
       "    </tr>\n",
       "    <tr>\n",
       "      <th>TN</th>\n",
       "      <td>53.934211</td>\n",
       "      <td>NaN</td>\n",
       "      <td>NaN</td>\n",
       "    </tr>\n",
       "    <tr>\n",
       "      <th>TX</th>\n",
       "      <td>54.639140</td>\n",
       "      <td>0.000000</td>\n",
       "      <td>0.000000</td>\n",
       "    </tr>\n",
       "    <tr>\n",
       "      <th>UT</th>\n",
       "      <td>83.260417</td>\n",
       "      <td>NaN</td>\n",
       "      <td>NaN</td>\n",
       "    </tr>\n",
       "    <tr>\n",
       "      <th>VA</th>\n",
       "      <td>70.731818</td>\n",
       "      <td>NaN</td>\n",
       "      <td>NaN</td>\n",
       "    </tr>\n",
       "    <tr>\n",
       "      <th>VT</th>\n",
       "      <td>34.666667</td>\n",
       "      <td>NaN</td>\n",
       "      <td>NaN</td>\n",
       "    </tr>\n",
       "    <tr>\n",
       "      <th>WA</th>\n",
       "      <td>43.938017</td>\n",
       "      <td>NaN</td>\n",
       "      <td>NaN</td>\n",
       "    </tr>\n",
       "    <tr>\n",
       "      <th>WI</th>\n",
       "      <td>23.247934</td>\n",
       "      <td>NaN</td>\n",
       "      <td>22.000000</td>\n",
       "    </tr>\n",
       "    <tr>\n",
       "      <th>WV</th>\n",
       "      <td>31.320755</td>\n",
       "      <td>NaN</td>\n",
       "      <td>NaN</td>\n",
       "    </tr>\n",
       "    <tr>\n",
       "      <th>WY</th>\n",
       "      <td>26.044444</td>\n",
       "      <td>NaN</td>\n",
       "      <td>NaN</td>\n",
       "    </tr>\n",
       "  </tbody>\n",
       "</table>\n",
       "</div>"
      ],
      "text/plain": [
       "Bldg Status      ACTIVE  DECOMMISSIONED      EXCESS\n",
       "Bldg State                                         \n",
       "AL            62.357724             NaN   59.000000\n",
       "AR            37.000000             NaN         NaN\n",
       "AZ            32.256757             NaN         NaN\n",
       "CA            60.493298             NaN         NaN\n",
       "CO            78.936709             NaN   22.200000\n",
       "CT            29.327586             NaN         NaN\n",
       "DC            41.255144             NaN         NaN\n",
       "DE            15.750000             NaN         NaN\n",
       "FL            51.905569             NaN         NaN\n",
       "GA            76.408257             NaN         NaN\n",
       "IA            27.202703             NaN         NaN\n",
       "ID            39.274194        0.000000         NaN\n",
       "IL            45.000000             NaN   21.000000\n",
       "IN            44.069444             NaN    0.000000\n",
       "KS            55.216216             NaN         NaN\n",
       "KY            46.277372             NaN         NaN\n",
       "LA            43.684932             NaN   68.666667\n",
       "MA            55.905512             NaN         NaN\n",
       "MD           104.185090        0.000000   43.166667\n",
       "ME            16.917526             NaN         NaN\n",
       "MI            41.608511             NaN         NaN\n",
       "MN            43.418367             NaN         NaN\n",
       "MO           121.200000      815.333333  254.272727\n",
       "MS            43.908046             NaN         NaN\n",
       "MT            15.326667             NaN         NaN\n",
       "NC            34.995283             NaN         NaN\n",
       "ND            13.475000             NaN         NaN\n",
       "NE            54.060000             NaN   19.000000\n",
       "NH            43.666667             NaN         NaN\n",
       "NJ            32.169118             NaN    4.300000\n",
       "NM            45.742647             NaN         NaN\n",
       "NV            48.648649             NaN  173.000000\n",
       "NY            39.635854        0.000000    0.000000\n",
       "OH            38.621891             NaN         NaN\n",
       "OK            39.108527             NaN   14.000000\n",
       "OR            31.828571             NaN         NaN\n",
       "PA            38.315574             NaN    0.000000\n",
       "RI            25.148148             NaN         NaN\n",
       "SC            36.768421             NaN         NaN\n",
       "SD            22.742424             NaN         NaN\n",
       "TN            53.934211             NaN         NaN\n",
       "TX            54.639140        0.000000    0.000000\n",
       "UT            83.260417             NaN         NaN\n",
       "VA            70.731818             NaN         NaN\n",
       "VT            34.666667             NaN         NaN\n",
       "WA            43.938017             NaN         NaN\n",
       "WI            23.247934             NaN   22.000000\n",
       "WV            31.320755             NaN         NaN\n",
       "WY            26.044444             NaN         NaN"
      ]
     },
     "execution_count": 89,
     "metadata": {},
     "output_type": "execute_result"
    }
   ],
   "source": [
    "excess_parking"
   ]
  },
  {
   "cell_type": "code",
   "execution_count": 90,
   "metadata": {},
   "outputs": [],
   "source": [
    "excess_parking = excess_parking[excess_parking.EXCESS > 0]"
   ]
  },
  {
   "cell_type": "code",
   "execution_count": 91,
   "metadata": {},
   "outputs": [
    {
     "data": {
      "text/html": [
       "<div>\n",
       "<style scoped>\n",
       "    .dataframe tbody tr th:only-of-type {\n",
       "        vertical-align: middle;\n",
       "    }\n",
       "\n",
       "    .dataframe tbody tr th {\n",
       "        vertical-align: top;\n",
       "    }\n",
       "\n",
       "    .dataframe thead th {\n",
       "        text-align: right;\n",
       "    }\n",
       "</style>\n",
       "<table border=\"1\" class=\"dataframe\">\n",
       "  <thead>\n",
       "    <tr style=\"text-align: right;\">\n",
       "      <th>Bldg Status</th>\n",
       "      <th>ACTIVE</th>\n",
       "      <th>DECOMMISSIONED</th>\n",
       "      <th>EXCESS</th>\n",
       "    </tr>\n",
       "    <tr>\n",
       "      <th>Bldg State</th>\n",
       "      <th></th>\n",
       "      <th></th>\n",
       "      <th></th>\n",
       "    </tr>\n",
       "  </thead>\n",
       "  <tbody>\n",
       "    <tr>\n",
       "      <th>AL</th>\n",
       "      <td>62.357724</td>\n",
       "      <td>NaN</td>\n",
       "      <td>59.000000</td>\n",
       "    </tr>\n",
       "    <tr>\n",
       "      <th>CO</th>\n",
       "      <td>78.936709</td>\n",
       "      <td>NaN</td>\n",
       "      <td>22.200000</td>\n",
       "    </tr>\n",
       "    <tr>\n",
       "      <th>IL</th>\n",
       "      <td>45.000000</td>\n",
       "      <td>NaN</td>\n",
       "      <td>21.000000</td>\n",
       "    </tr>\n",
       "    <tr>\n",
       "      <th>LA</th>\n",
       "      <td>43.684932</td>\n",
       "      <td>NaN</td>\n",
       "      <td>68.666667</td>\n",
       "    </tr>\n",
       "    <tr>\n",
       "      <th>MD</th>\n",
       "      <td>104.185090</td>\n",
       "      <td>0.000000</td>\n",
       "      <td>43.166667</td>\n",
       "    </tr>\n",
       "    <tr>\n",
       "      <th>MO</th>\n",
       "      <td>121.200000</td>\n",
       "      <td>815.333333</td>\n",
       "      <td>254.272727</td>\n",
       "    </tr>\n",
       "    <tr>\n",
       "      <th>NE</th>\n",
       "      <td>54.060000</td>\n",
       "      <td>NaN</td>\n",
       "      <td>19.000000</td>\n",
       "    </tr>\n",
       "    <tr>\n",
       "      <th>NJ</th>\n",
       "      <td>32.169118</td>\n",
       "      <td>NaN</td>\n",
       "      <td>4.300000</td>\n",
       "    </tr>\n",
       "    <tr>\n",
       "      <th>NV</th>\n",
       "      <td>48.648649</td>\n",
       "      <td>NaN</td>\n",
       "      <td>173.000000</td>\n",
       "    </tr>\n",
       "    <tr>\n",
       "      <th>OK</th>\n",
       "      <td>39.108527</td>\n",
       "      <td>NaN</td>\n",
       "      <td>14.000000</td>\n",
       "    </tr>\n",
       "    <tr>\n",
       "      <th>WI</th>\n",
       "      <td>23.247934</td>\n",
       "      <td>NaN</td>\n",
       "      <td>22.000000</td>\n",
       "    </tr>\n",
       "  </tbody>\n",
       "</table>\n",
       "</div>"
      ],
      "text/plain": [
       "Bldg Status      ACTIVE  DECOMMISSIONED      EXCESS\n",
       "Bldg State                                         \n",
       "AL            62.357724             NaN   59.000000\n",
       "CO            78.936709             NaN   22.200000\n",
       "IL            45.000000             NaN   21.000000\n",
       "LA            43.684932             NaN   68.666667\n",
       "MD           104.185090        0.000000   43.166667\n",
       "MO           121.200000      815.333333  254.272727\n",
       "NE            54.060000             NaN   19.000000\n",
       "NJ            32.169118             NaN    4.300000\n",
       "NV            48.648649             NaN  173.000000\n",
       "OK            39.108527             NaN   14.000000\n",
       "WI            23.247934             NaN   22.000000"
      ]
     },
     "execution_count": 91,
     "metadata": {},
     "output_type": "execute_result"
    }
   ],
   "source": [
    "excess_parking"
   ]
  },
  {
   "cell_type": "code",
   "execution_count": 92,
   "metadata": {},
   "outputs": [
    {
     "data": {
      "text/plain": [
       "<matplotlib.axes._subplots.AxesSubplot at 0x1a6834b0cc8>"
      ]
     },
     "execution_count": 92,
     "metadata": {},
     "output_type": "execute_result"
    },
    {
     "data": {
      "image/png": "[encoded data removed]",
      "text/plain": [
       "<Figure size 432x288 with 1 Axes>"
      ]
     },
     "metadata": {
      "needs_background": "light"
     },
     "output_type": "display_data"
    }
   ],
   "source": [
    "excess_parking.plot(kind='bar')"
   ]
  },
  {
   "cell_type": "code",
   "execution_count": 96,
   "metadata": {},
   "outputs": [
    {
     "data": {
      "text/plain": [
       "<BarContainer object of 11 artists>"
      ]
     },
     "execution_count": 96,
     "metadata": {},
     "output_type": "execute_result"
    },
    {
     "data": {
      "image/png": "[encoded data removed]",
      "text/plain": [
       "<Figure size 432x288 with 1 Axes>"
      ]
     },
     "metadata": {
      "needs_background": "light"
     },
     "output_type": "display_data"
    }
   ],
   "source": [
    "plt.bar(excess_parking.index, excess_parking.EXCESS)"
   ]
  },
  {
   "cell_type": "code",
   "execution_count": 95,
   "metadata": {},
   "outputs": [],
   "source": [
    "excess_parking_sorted = excess_parking.EXCESS.sort_values()"
   ]
  },
  {
   "cell_type": "code",
   "execution_count": 98,
   "metadata": {},
   "outputs": [
    {
     "data": {
      "text/plain": [
       "<BarContainer object of 11 artists>"
      ]
     },
     "execution_count": 98,
     "metadata": {},
     "output_type": "execute_result"
    },
    {
     "data": {
      "image/png": "[encoded data removed]",
      "text/plain": [
       "<Figure size 432x288 with 1 Axes>"
      ]
     },
     "metadata": {
      "needs_background": "light"
     },
     "output_type": "display_data"
    }
   ],
   "source": [
    "plt.bar(excess_parking_sorted.index, excess_parking_sorted)"
   ]
  },
  {
   "cell_type": "markdown",
   "metadata": {},
   "source": [
    "## Q3 Building cities that have been decommissioned along with total parking"
   ]
  },
  {
   "cell_type": "code",
   "execution_count": 116,
   "metadata": {},
   "outputs": [
    {
     "data": {
      "text/html": [
       "<div>\n",
       "<style scoped>\n",
       "    .dataframe tbody tr th:only-of-type {\n",
       "        vertical-align: middle;\n",
       "    }\n",
       "\n",
       "    .dataframe tbody tr th {\n",
       "        vertical-align: top;\n",
       "    }\n",
       "\n",
       "    .dataframe thead th {\n",
       "        text-align: right;\n",
       "    }\n",
       "</style>\n",
       "<table border=\"1\" class=\"dataframe\">\n",
       "  <thead>\n",
       "    <tr style=\"text-align: right;\">\n",
       "      <th></th>\n",
       "      <th>Bldg City</th>\n",
       "      <th>Bldg State</th>\n",
       "      <th>Bldg Status</th>\n",
       "      <th>Property Type</th>\n",
       "      <th>Total Parking Spaces</th>\n",
       "      <th>Owned/Leased</th>\n",
       "    </tr>\n",
       "  </thead>\n",
       "  <tbody>\n",
       "    <tr>\n",
       "      <th>0</th>\n",
       "      <td>HARTFORD</td>\n",
       "      <td>CT</td>\n",
       "      <td>ACTIVE</td>\n",
       "      <td>BUILDING</td>\n",
       "      <td>29</td>\n",
       "      <td>OWNED</td>\n",
       "    </tr>\n",
       "    <tr>\n",
       "      <th>1</th>\n",
       "      <td>NEW HAVEN</td>\n",
       "      <td>CT</td>\n",
       "      <td>ACTIVE</td>\n",
       "      <td>BUILDING</td>\n",
       "      <td>0</td>\n",
       "      <td>OWNED</td>\n",
       "    </tr>\n",
       "    <tr>\n",
       "      <th>2</th>\n",
       "      <td>WATERBURY</td>\n",
       "      <td>CT</td>\n",
       "      <td>ACTIVE</td>\n",
       "      <td>BUILDING</td>\n",
       "      <td>2</td>\n",
       "      <td>LEASED</td>\n",
       "    </tr>\n",
       "    <tr>\n",
       "      <th>3</th>\n",
       "      <td>WILLIMANTIC</td>\n",
       "      <td>CT</td>\n",
       "      <td>ACTIVE</td>\n",
       "      <td>BUILDING</td>\n",
       "      <td>0</td>\n",
       "      <td>LEASED</td>\n",
       "    </tr>\n",
       "    <tr>\n",
       "      <th>4</th>\n",
       "      <td>HARTFORD</td>\n",
       "      <td>CT</td>\n",
       "      <td>ACTIVE</td>\n",
       "      <td>BUILDING</td>\n",
       "      <td>103</td>\n",
       "      <td>OWNED</td>\n",
       "    </tr>\n",
       "  </tbody>\n",
       "</table>\n",
       "</div>"
      ],
      "text/plain": [
       "     Bldg City Bldg State Bldg Status Property Type  Total Parking Spaces  \\\n",
       "0     HARTFORD         CT      ACTIVE      BUILDING                    29   \n",
       "1    NEW HAVEN         CT      ACTIVE      BUILDING                     0   \n",
       "2    WATERBURY         CT      ACTIVE      BUILDING                     2   \n",
       "3  WILLIMANTIC         CT      ACTIVE      BUILDING                     0   \n",
       "4     HARTFORD         CT      ACTIVE      BUILDING                   103   \n",
       "\n",
       "  Owned/Leased  \n",
       "0        OWNED  \n",
       "1        OWNED  \n",
       "2       LEASED  \n",
       "3       LEASED  \n",
       "4        OWNED  "
      ]
     },
     "execution_count": 116,
     "metadata": {},
     "output_type": "execute_result"
    }
   ],
   "source": [
    "parking.head()"
   ]
  },
  {
   "cell_type": "code",
   "execution_count": 117,
   "metadata": {},
   "outputs": [],
   "source": [
    "decom_parking_city = parking[parking['Bldg Status'] == 'DECOMMISSIONED']"
   ]
  },
  {
   "cell_type": "code",
   "execution_count": 115,
   "metadata": {},
   "outputs": [
    {
     "data": {
      "text/html": [
       "<div>\n",
       "<style scoped>\n",
       "    .dataframe tbody tr th:only-of-type {\n",
       "        vertical-align: middle;\n",
       "    }\n",
       "\n",
       "    .dataframe tbody tr th {\n",
       "        vertical-align: top;\n",
       "    }\n",
       "\n",
       "    .dataframe thead th {\n",
       "        text-align: right;\n",
       "    }\n",
       "</style>\n",
       "<table border=\"1\" class=\"dataframe\">\n",
       "  <thead>\n",
       "    <tr style=\"text-align: right;\">\n",
       "      <th></th>\n",
       "      <th>Bldg City</th>\n",
       "      <th>Bldg State</th>\n",
       "      <th>Bldg Status</th>\n",
       "      <th>Property Type</th>\n",
       "      <th>Total Parking Spaces</th>\n",
       "      <th>Owned/Leased</th>\n",
       "    </tr>\n",
       "  </thead>\n",
       "  <tbody>\n",
       "    <tr>\n",
       "      <th>429</th>\n",
       "      <td>PORTHILL</td>\n",
       "      <td>ID</td>\n",
       "      <td>DECOMMISSIONED</td>\n",
       "      <td>BUILDING</td>\n",
       "      <td>0</td>\n",
       "      <td>OWNED</td>\n",
       "    </tr>\n",
       "    <tr>\n",
       "      <th>1933</th>\n",
       "      <td>MOOERS</td>\n",
       "      <td>NY</td>\n",
       "      <td>DECOMMISSIONED</td>\n",
       "      <td>BUILDING</td>\n",
       "      <td>0</td>\n",
       "      <td>OWNED</td>\n",
       "    </tr>\n",
       "    <tr>\n",
       "      <th>1934</th>\n",
       "      <td>MOOERS</td>\n",
       "      <td>NY</td>\n",
       "      <td>DECOMMISSIONED</td>\n",
       "      <td>BUILDING</td>\n",
       "      <td>0</td>\n",
       "      <td>OWNED</td>\n",
       "    </tr>\n",
       "    <tr>\n",
       "      <th>2338</th>\n",
       "      <td>CURTIS BAY</td>\n",
       "      <td>MD</td>\n",
       "      <td>DECOMMISSIONED</td>\n",
       "      <td>BUILDING</td>\n",
       "      <td>0</td>\n",
       "      <td>OWNED</td>\n",
       "    </tr>\n",
       "    <tr>\n",
       "      <th>2348</th>\n",
       "      <td>CURTIS BAY</td>\n",
       "      <td>MD</td>\n",
       "      <td>DECOMMISSIONED</td>\n",
       "      <td>BUILDING</td>\n",
       "      <td>0</td>\n",
       "      <td>OWNED</td>\n",
       "    </tr>\n",
       "    <tr>\n",
       "      <th>5716</th>\n",
       "      <td>OVERLAND</td>\n",
       "      <td>MO</td>\n",
       "      <td>DECOMMISSIONED</td>\n",
       "      <td>BUILDING</td>\n",
       "      <td>2089</td>\n",
       "      <td>OWNED</td>\n",
       "    </tr>\n",
       "    <tr>\n",
       "      <th>5725</th>\n",
       "      <td>SAINT LOUIS</td>\n",
       "      <td>MO</td>\n",
       "      <td>DECOMMISSIONED</td>\n",
       "      <td>BUILDING</td>\n",
       "      <td>357</td>\n",
       "      <td>OWNED</td>\n",
       "    </tr>\n",
       "    <tr>\n",
       "      <th>5726</th>\n",
       "      <td>SAINT LOUIS</td>\n",
       "      <td>MO</td>\n",
       "      <td>DECOMMISSIONED</td>\n",
       "      <td>BUILDING</td>\n",
       "      <td>0</td>\n",
       "      <td>OWNED</td>\n",
       "    </tr>\n",
       "    <tr>\n",
       "      <th>6752</th>\n",
       "      <td>FORT WORTH</td>\n",
       "      <td>TX</td>\n",
       "      <td>DECOMMISSIONED</td>\n",
       "      <td>BUILDING</td>\n",
       "      <td>0</td>\n",
       "      <td>OWNED</td>\n",
       "    </tr>\n",
       "  </tbody>\n",
       "</table>\n",
       "</div>"
      ],
      "text/plain": [
       "        Bldg City Bldg State     Bldg Status Property Type  \\\n",
       "429      PORTHILL         ID  DECOMMISSIONED      BUILDING   \n",
       "1933       MOOERS         NY  DECOMMISSIONED      BUILDING   \n",
       "1934       MOOERS         NY  DECOMMISSIONED      BUILDING   \n",
       "2338   CURTIS BAY         MD  DECOMMISSIONED      BUILDING   \n",
       "2348   CURTIS BAY         MD  DECOMMISSIONED      BUILDING   \n",
       "5716     OVERLAND         MO  DECOMMISSIONED      BUILDING   \n",
       "5725  SAINT LOUIS         MO  DECOMMISSIONED      BUILDING   \n",
       "5726  SAINT LOUIS         MO  DECOMMISSIONED      BUILDING   \n",
       "6752   FORT WORTH         TX  DECOMMISSIONED      BUILDING   \n",
       "\n",
       "      Total Parking Spaces Owned/Leased  \n",
       "429                      0        OWNED  \n",
       "1933                     0        OWNED  \n",
       "1934                     0        OWNED  \n",
       "2338                     0        OWNED  \n",
       "2348                     0        OWNED  \n",
       "5716                  2089        OWNED  \n",
       "5725                   357        OWNED  \n",
       "5726                     0        OWNED  \n",
       "6752                     0        OWNED  "
      ]
     },
     "execution_count": 115,
     "metadata": {},
     "output_type": "execute_result"
    }
   ],
   "source": [
    "decom_parking_city"
   ]
  },
  {
   "cell_type": "code",
   "execution_count": 127,
   "metadata": {},
   "outputs": [],
   "source": [
    "decom_parking_city = decom_parking_city[decom_parking_city[\"Total Parking Spaces\"] > 0]"
   ]
  },
  {
   "cell_type": "code",
   "execution_count": 128,
   "metadata": {},
   "outputs": [
    {
     "data": {
      "text/html": [
       "<div>\n",
       "<style scoped>\n",
       "    .dataframe tbody tr th:only-of-type {\n",
       "        vertical-align: middle;\n",
       "    }\n",
       "\n",
       "    .dataframe tbody tr th {\n",
       "        vertical-align: top;\n",
       "    }\n",
       "\n",
       "    .dataframe thead th {\n",
       "        text-align: right;\n",
       "    }\n",
       "</style>\n",
       "<table border=\"1\" class=\"dataframe\">\n",
       "  <thead>\n",
       "    <tr style=\"text-align: right;\">\n",
       "      <th></th>\n",
       "      <th>Bldg City</th>\n",
       "      <th>Bldg State</th>\n",
       "      <th>Bldg Status</th>\n",
       "      <th>Property Type</th>\n",
       "      <th>Total Parking Spaces</th>\n",
       "      <th>Owned/Leased</th>\n",
       "    </tr>\n",
       "  </thead>\n",
       "  <tbody>\n",
       "    <tr>\n",
       "      <th>5716</th>\n",
       "      <td>OVERLAND</td>\n",
       "      <td>MO</td>\n",
       "      <td>DECOMMISSIONED</td>\n",
       "      <td>BUILDING</td>\n",
       "      <td>2089</td>\n",
       "      <td>OWNED</td>\n",
       "    </tr>\n",
       "    <tr>\n",
       "      <th>5725</th>\n",
       "      <td>SAINT LOUIS</td>\n",
       "      <td>MO</td>\n",
       "      <td>DECOMMISSIONED</td>\n",
       "      <td>BUILDING</td>\n",
       "      <td>357</td>\n",
       "      <td>OWNED</td>\n",
       "    </tr>\n",
       "  </tbody>\n",
       "</table>\n",
       "</div>"
      ],
      "text/plain": [
       "        Bldg City Bldg State     Bldg Status Property Type  \\\n",
       "5716     OVERLAND         MO  DECOMMISSIONED      BUILDING   \n",
       "5725  SAINT LOUIS         MO  DECOMMISSIONED      BUILDING   \n",
       "\n",
       "      Total Parking Spaces Owned/Leased  \n",
       "5716                  2089        OWNED  \n",
       "5725                   357        OWNED  "
      ]
     },
     "execution_count": 128,
     "metadata": {},
     "output_type": "execute_result"
    }
   ],
   "source": [
    "decom_parking_city"
   ]
  },
  {
   "cell_type": "code",
   "execution_count": 131,
   "metadata": {},
   "outputs": [
    {
     "data": {
      "text/plain": [
       "<BarContainer object of 2 artists>"
      ]
     },
     "execution_count": 131,
     "metadata": {},
     "output_type": "execute_result"
    },
    {
     "data": {
      "image/png": "[encoded data removed]",
      "text/plain": [
       "<Figure size 432x288 with 1 Axes>"
      ]
     },
     "metadata": {
      "needs_background": "light"
     },
     "output_type": "display_data"
    }
   ],
   "source": [
    "plt.bar(decom_parking_city['Bldg City'], decom_parking_city['Total Parking Spaces'])"
   ]
  },
  {
   "cell_type": "markdown",
   "metadata": {},
   "source": [
    "## Q4 In which type of Property parking space is in excess"
   ]
  },
  {
   "cell_type": "code",
   "execution_count": 135,
   "metadata": {},
   "outputs": [],
   "source": [
    "excess_parking_property = pd.pivot_table(parking[parking['Bldg Status'] == 'EXCESS'], index='Property Type', values='Total Parking Spaces')"
   ]
  },
  {
   "cell_type": "code",
   "execution_count": 136,
   "metadata": {},
   "outputs": [
    {
     "data": {
      "text/html": [
       "<div>\n",
       "<style scoped>\n",
       "    .dataframe tbody tr th:only-of-type {\n",
       "        vertical-align: middle;\n",
       "    }\n",
       "\n",
       "    .dataframe tbody tr th {\n",
       "        vertical-align: top;\n",
       "    }\n",
       "\n",
       "    .dataframe thead th {\n",
       "        text-align: right;\n",
       "    }\n",
       "</style>\n",
       "<table border=\"1\" class=\"dataframe\">\n",
       "  <thead>\n",
       "    <tr style=\"text-align: right;\">\n",
       "      <th></th>\n",
       "      <th>Total Parking Spaces</th>\n",
       "    </tr>\n",
       "    <tr>\n",
       "      <th>Property Type</th>\n",
       "      <th></th>\n",
       "    </tr>\n",
       "  </thead>\n",
       "  <tbody>\n",
       "    <tr>\n",
       "      <th>BUILDING</th>\n",
       "      <td>57.791045</td>\n",
       "    </tr>\n",
       "    <tr>\n",
       "      <th>STRUCTURE</th>\n",
       "      <td>37.000000</td>\n",
       "    </tr>\n",
       "  </tbody>\n",
       "</table>\n",
       "</div>"
      ],
      "text/plain": [
       "               Total Parking Spaces\n",
       "Property Type                      \n",
       "BUILDING                  57.791045\n",
       "STRUCTURE                 37.000000"
      ]
     },
     "execution_count": 136,
     "metadata": {},
     "output_type": "execute_result"
    }
   ],
   "source": [
    "excess_parking_property"
   ]
  },
  {
   "cell_type": "markdown",
   "metadata": {},
   "source": [
    "## Q5 Where is more active parking - Owned/Leased"
   ]
  },
  {
   "cell_type": "code",
   "execution_count": 137,
   "metadata": {},
   "outputs": [],
   "source": [
    "active_parking = pd.pivot_table(parking[parking['Bldg Status'] == 'ACTIVE'], index='Owned/Leased', values='Total Parking Spaces')"
   ]
  },
  {
   "cell_type": "code",
   "execution_count": 138,
   "metadata": {},
   "outputs": [
    {
     "data": {
      "text/html": [
       "<div>\n",
       "<style scoped>\n",
       "    .dataframe tbody tr th:only-of-type {\n",
       "        vertical-align: middle;\n",
       "    }\n",
       "\n",
       "    .dataframe tbody tr th {\n",
       "        vertical-align: top;\n",
       "    }\n",
       "\n",
       "    .dataframe thead th {\n",
       "        text-align: right;\n",
       "    }\n",
       "</style>\n",
       "<table border=\"1\" class=\"dataframe\">\n",
       "  <thead>\n",
       "    <tr style=\"text-align: right;\">\n",
       "      <th></th>\n",
       "      <th>Total Parking Spaces</th>\n",
       "    </tr>\n",
       "    <tr>\n",
       "      <th>Owned/Leased</th>\n",
       "      <th></th>\n",
       "    </tr>\n",
       "  </thead>\n",
       "  <tbody>\n",
       "    <tr>\n",
       "      <th>LEASED</th>\n",
       "      <td>44.707349</td>\n",
       "    </tr>\n",
       "    <tr>\n",
       "      <th>OWNED</th>\n",
       "      <td>74.365997</td>\n",
       "    </tr>\n",
       "  </tbody>\n",
       "</table>\n",
       "</div>"
      ],
      "text/plain": [
       "              Total Parking Spaces\n",
       "Owned/Leased                      \n",
       "LEASED                   44.707349\n",
       "OWNED                    74.365997"
      ]
     },
     "execution_count": 138,
     "metadata": {},
     "output_type": "execute_result"
    }
   ],
   "source": [
    "active_parking"
   ]
  },
  {
   "cell_type": "markdown",
   "metadata": {},
   "source": [
    "## Q6 percentage"
   ]
  },
  {
   "cell_type": "code",
   "execution_count": 141,
   "metadata": {},
   "outputs": [
    {
     "data": {
      "text/plain": [
       "119.0733457634346"
      ]
     },
     "execution_count": 141,
     "metadata": {},
     "output_type": "execute_result"
    }
   ],
   "source": [
    "active_parking['Total Parking Spaces'].sum()"
   ]
  },
  {
   "cell_type": "code",
   "execution_count": 145,
   "metadata": {},
   "outputs": [
    {
     "data": {
      "text/plain": [
       "Owned/Leased\n",
       "LEASED    0.375461\n",
       "OWNED     0.624539\n",
       "Name: Total Parking Spaces, dtype: float64"
      ]
     },
     "execution_count": 145,
     "metadata": {},
     "output_type": "execute_result"
    }
   ],
   "source": [
    "active_parking['Total Parking Spaces']/active_parking['Total Parking Spaces'].sum()"
   ]
  },
  {
   "cell_type": "code",
   "execution_count": 146,
   "metadata": {},
   "outputs": [],
   "source": [
    "active_parking['%Contri']= active_parking['Total Parking Spaces']/active_parking['Total Parking Spaces'].sum()"
   ]
  },
  {
   "cell_type": "code",
   "execution_count": 147,
   "metadata": {},
   "outputs": [
    {
     "data": {
      "text/html": [
       "<div>\n",
       "<style scoped>\n",
       "    .dataframe tbody tr th:only-of-type {\n",
       "        vertical-align: middle;\n",
       "    }\n",
       "\n",
       "    .dataframe tbody tr th {\n",
       "        vertical-align: top;\n",
       "    }\n",
       "\n",
       "    .dataframe thead th {\n",
       "        text-align: right;\n",
       "    }\n",
       "</style>\n",
       "<table border=\"1\" class=\"dataframe\">\n",
       "  <thead>\n",
       "    <tr style=\"text-align: right;\">\n",
       "      <th></th>\n",
       "      <th>Total Parking Spaces</th>\n",
       "      <th>%Contri</th>\n",
       "    </tr>\n",
       "    <tr>\n",
       "      <th>Owned/Leased</th>\n",
       "      <th></th>\n",
       "      <th></th>\n",
       "    </tr>\n",
       "  </thead>\n",
       "  <tbody>\n",
       "    <tr>\n",
       "      <th>LEASED</th>\n",
       "      <td>44.707349</td>\n",
       "      <td>0.375461</td>\n",
       "    </tr>\n",
       "    <tr>\n",
       "      <th>OWNED</th>\n",
       "      <td>74.365997</td>\n",
       "      <td>0.624539</td>\n",
       "    </tr>\n",
       "  </tbody>\n",
       "</table>\n",
       "</div>"
      ],
      "text/plain": [
       "              Total Parking Spaces   %Contri\n",
       "Owned/Leased                                \n",
       "LEASED                   44.707349  0.375461\n",
       "OWNED                    74.365997  0.624539"
      ]
     },
     "execution_count": 147,
     "metadata": {},
     "output_type": "execute_result"
    }
   ],
   "source": [
    "active_parking"
   ]
  },
  {
   "cell_type": "markdown",
   "metadata": {},
   "source": [
    "## Q7 State with more leased parking"
   ]
  },
  {
   "cell_type": "code",
   "execution_count": 148,
   "metadata": {},
   "outputs": [
    {
     "data": {
      "text/html": [
       "<div>\n",
       "<style scoped>\n",
       "    .dataframe tbody tr th:only-of-type {\n",
       "        vertical-align: middle;\n",
       "    }\n",
       "\n",
       "    .dataframe tbody tr th {\n",
       "        vertical-align: top;\n",
       "    }\n",
       "\n",
       "    .dataframe thead th {\n",
       "        text-align: right;\n",
       "    }\n",
       "</style>\n",
       "<table border=\"1\" class=\"dataframe\">\n",
       "  <thead>\n",
       "    <tr style=\"text-align: right;\">\n",
       "      <th></th>\n",
       "      <th>Bldg City</th>\n",
       "      <th>Bldg State</th>\n",
       "      <th>Bldg Status</th>\n",
       "      <th>Property Type</th>\n",
       "      <th>Total Parking Spaces</th>\n",
       "      <th>Owned/Leased</th>\n",
       "    </tr>\n",
       "  </thead>\n",
       "  <tbody>\n",
       "    <tr>\n",
       "      <th>0</th>\n",
       "      <td>HARTFORD</td>\n",
       "      <td>CT</td>\n",
       "      <td>ACTIVE</td>\n",
       "      <td>BUILDING</td>\n",
       "      <td>29</td>\n",
       "      <td>OWNED</td>\n",
       "    </tr>\n",
       "    <tr>\n",
       "      <th>1</th>\n",
       "      <td>NEW HAVEN</td>\n",
       "      <td>CT</td>\n",
       "      <td>ACTIVE</td>\n",
       "      <td>BUILDING</td>\n",
       "      <td>0</td>\n",
       "      <td>OWNED</td>\n",
       "    </tr>\n",
       "    <tr>\n",
       "      <th>2</th>\n",
       "      <td>WATERBURY</td>\n",
       "      <td>CT</td>\n",
       "      <td>ACTIVE</td>\n",
       "      <td>BUILDING</td>\n",
       "      <td>2</td>\n",
       "      <td>LEASED</td>\n",
       "    </tr>\n",
       "    <tr>\n",
       "      <th>3</th>\n",
       "      <td>WILLIMANTIC</td>\n",
       "      <td>CT</td>\n",
       "      <td>ACTIVE</td>\n",
       "      <td>BUILDING</td>\n",
       "      <td>0</td>\n",
       "      <td>LEASED</td>\n",
       "    </tr>\n",
       "    <tr>\n",
       "      <th>4</th>\n",
       "      <td>HARTFORD</td>\n",
       "      <td>CT</td>\n",
       "      <td>ACTIVE</td>\n",
       "      <td>BUILDING</td>\n",
       "      <td>103</td>\n",
       "      <td>OWNED</td>\n",
       "    </tr>\n",
       "  </tbody>\n",
       "</table>\n",
       "</div>"
      ],
      "text/plain": [
       "     Bldg City Bldg State Bldg Status Property Type  Total Parking Spaces  \\\n",
       "0     HARTFORD         CT      ACTIVE      BUILDING                    29   \n",
       "1    NEW HAVEN         CT      ACTIVE      BUILDING                     0   \n",
       "2    WATERBURY         CT      ACTIVE      BUILDING                     2   \n",
       "3  WILLIMANTIC         CT      ACTIVE      BUILDING                     0   \n",
       "4     HARTFORD         CT      ACTIVE      BUILDING                   103   \n",
       "\n",
       "  Owned/Leased  \n",
       "0        OWNED  \n",
       "1        OWNED  \n",
       "2       LEASED  \n",
       "3       LEASED  \n",
       "4        OWNED  "
      ]
     },
     "execution_count": 148,
     "metadata": {},
     "output_type": "execute_result"
    }
   ],
   "source": [
    "parking.head()"
   ]
  },
  {
   "cell_type": "code",
   "execution_count": 149,
   "metadata": {},
   "outputs": [],
   "source": [
    "state_leased_parking = pd.pivot_table(parking[parking['Owned/Leased'] == 'LEASED'], index= 'Bldg State', values=\"Total Parking Spaces\")"
   ]
  },
  {
   "cell_type": "code",
   "execution_count": 156,
   "metadata": {},
   "outputs": [],
   "source": [
    "state_leased_parking = state_leased_parking.sort_values('Total Parking Spaces', ascending= False)"
   ]
  },
  {
   "cell_type": "code",
   "execution_count": 157,
   "metadata": {},
   "outputs": [
    {
     "data": {
      "text/html": [
       "<div>\n",
       "<style scoped>\n",
       "    .dataframe tbody tr th:only-of-type {\n",
       "        vertical-align: middle;\n",
       "    }\n",
       "\n",
       "    .dataframe tbody tr th {\n",
       "        vertical-align: top;\n",
       "    }\n",
       "\n",
       "    .dataframe thead th {\n",
       "        text-align: right;\n",
       "    }\n",
       "</style>\n",
       "<table border=\"1\" class=\"dataframe\">\n",
       "  <thead>\n",
       "    <tr style=\"text-align: right;\">\n",
       "      <th></th>\n",
       "      <th>Total Parking Spaces</th>\n",
       "    </tr>\n",
       "    <tr>\n",
       "      <th>Bldg State</th>\n",
       "      <th></th>\n",
       "    </tr>\n",
       "  </thead>\n",
       "  <tbody>\n",
       "    <tr>\n",
       "      <th>MO</th>\n",
       "      <td>107.762821</td>\n",
       "    </tr>\n",
       "    <tr>\n",
       "      <th>TX</th>\n",
       "      <td>73.457086</td>\n",
       "    </tr>\n",
       "    <tr>\n",
       "      <th>VA</th>\n",
       "      <td>72.476316</td>\n",
       "    </tr>\n",
       "    <tr>\n",
       "      <th>AL</th>\n",
       "      <td>64.055556</td>\n",
       "    </tr>\n",
       "    <tr>\n",
       "      <th>UT</th>\n",
       "      <td>62.505882</td>\n",
       "    </tr>\n",
       "    <tr>\n",
       "      <th>GA</th>\n",
       "      <td>62.425414</td>\n",
       "    </tr>\n",
       "    <tr>\n",
       "      <th>CO</th>\n",
       "      <td>58.647727</td>\n",
       "    </tr>\n",
       "    <tr>\n",
       "      <th>VT</th>\n",
       "      <td>56.128205</td>\n",
       "    </tr>\n",
       "    <tr>\n",
       "      <th>NM</th>\n",
       "      <td>51.926316</td>\n",
       "    </tr>\n",
       "    <tr>\n",
       "      <th>MD</th>\n",
       "      <td>51.461224</td>\n",
       "    </tr>\n",
       "    <tr>\n",
       "      <th>FL</th>\n",
       "      <td>49.102828</td>\n",
       "    </tr>\n",
       "    <tr>\n",
       "      <th>KS</th>\n",
       "      <td>48.242857</td>\n",
       "    </tr>\n",
       "    <tr>\n",
       "      <th>NE</th>\n",
       "      <td>45.239130</td>\n",
       "    </tr>\n",
       "    <tr>\n",
       "      <th>CA</th>\n",
       "      <td>44.639810</td>\n",
       "    </tr>\n",
       "    <tr>\n",
       "      <th>LA</th>\n",
       "      <td>42.666667</td>\n",
       "    </tr>\n",
       "    <tr>\n",
       "      <th>DC</th>\n",
       "      <td>42.562914</td>\n",
       "    </tr>\n",
       "    <tr>\n",
       "      <th>IL</th>\n",
       "      <td>41.822967</td>\n",
       "    </tr>\n",
       "    <tr>\n",
       "      <th>NV</th>\n",
       "      <td>40.086957</td>\n",
       "    </tr>\n",
       "    <tr>\n",
       "      <th>NH</th>\n",
       "      <td>39.029412</td>\n",
       "    </tr>\n",
       "    <tr>\n",
       "      <th>MA</th>\n",
       "      <td>38.774775</td>\n",
       "    </tr>\n",
       "    <tr>\n",
       "      <th>WA</th>\n",
       "      <td>38.453039</td>\n",
       "    </tr>\n",
       "    <tr>\n",
       "      <th>ID</th>\n",
       "      <td>38.092593</td>\n",
       "    </tr>\n",
       "    <tr>\n",
       "      <th>AZ</th>\n",
       "      <td>38.025806</td>\n",
       "    </tr>\n",
       "    <tr>\n",
       "      <th>MS</th>\n",
       "      <td>37.168831</td>\n",
       "    </tr>\n",
       "    <tr>\n",
       "      <th>KY</th>\n",
       "      <td>35.764228</td>\n",
       "    </tr>\n",
       "    <tr>\n",
       "      <th>OK</th>\n",
       "      <td>35.717949</td>\n",
       "    </tr>\n",
       "    <tr>\n",
       "      <th>TN</th>\n",
       "      <td>34.785185</td>\n",
       "    </tr>\n",
       "    <tr>\n",
       "      <th>MI</th>\n",
       "      <td>33.827225</td>\n",
       "    </tr>\n",
       "    <tr>\n",
       "      <th>IN</th>\n",
       "      <td>33.365385</td>\n",
       "    </tr>\n",
       "    <tr>\n",
       "      <th>NC</th>\n",
       "      <td>32.611111</td>\n",
       "    </tr>\n",
       "    <tr>\n",
       "      <th>NJ</th>\n",
       "      <td>30.475806</td>\n",
       "    </tr>\n",
       "    <tr>\n",
       "      <th>NY</th>\n",
       "      <td>29.940000</td>\n",
       "    </tr>\n",
       "    <tr>\n",
       "      <th>OH</th>\n",
       "      <td>29.783784</td>\n",
       "    </tr>\n",
       "    <tr>\n",
       "      <th>WV</th>\n",
       "      <td>29.466667</td>\n",
       "    </tr>\n",
       "    <tr>\n",
       "      <th>AR</th>\n",
       "      <td>28.098592</td>\n",
       "    </tr>\n",
       "    <tr>\n",
       "      <th>PA</th>\n",
       "      <td>27.440367</td>\n",
       "    </tr>\n",
       "    <tr>\n",
       "      <th>CT</th>\n",
       "      <td>26.134615</td>\n",
       "    </tr>\n",
       "    <tr>\n",
       "      <th>MN</th>\n",
       "      <td>25.833333</td>\n",
       "    </tr>\n",
       "    <tr>\n",
       "      <th>RI</th>\n",
       "      <td>25.750000</td>\n",
       "    </tr>\n",
       "    <tr>\n",
       "      <th>SC</th>\n",
       "      <td>24.625000</td>\n",
       "    </tr>\n",
       "    <tr>\n",
       "      <th>MT</th>\n",
       "      <td>24.064935</td>\n",
       "    </tr>\n",
       "    <tr>\n",
       "      <th>OR</th>\n",
       "      <td>23.340659</td>\n",
       "    </tr>\n",
       "    <tr>\n",
       "      <th>WI</th>\n",
       "      <td>22.982906</td>\n",
       "    </tr>\n",
       "    <tr>\n",
       "      <th>WY</th>\n",
       "      <td>20.102564</td>\n",
       "    </tr>\n",
       "    <tr>\n",
       "      <th>IA</th>\n",
       "      <td>19.941176</td>\n",
       "    </tr>\n",
       "    <tr>\n",
       "      <th>ME</th>\n",
       "      <td>17.448276</td>\n",
       "    </tr>\n",
       "    <tr>\n",
       "      <th>DE</th>\n",
       "      <td>15.592593</td>\n",
       "    </tr>\n",
       "    <tr>\n",
       "      <th>SD</th>\n",
       "      <td>14.868852</td>\n",
       "    </tr>\n",
       "    <tr>\n",
       "      <th>ND</th>\n",
       "      <td>10.477273</td>\n",
       "    </tr>\n",
       "  </tbody>\n",
       "</table>\n",
       "</div>"
      ],
      "text/plain": [
       "            Total Parking Spaces\n",
       "Bldg State                      \n",
       "MO                    107.762821\n",
       "TX                     73.457086\n",
       "VA                     72.476316\n",
       "AL                     64.055556\n",
       "UT                     62.505882\n",
       "GA                     62.425414\n",
       "CO                     58.647727\n",
       "VT                     56.128205\n",
       "NM                     51.926316\n",
       "MD                     51.461224\n",
       "FL                     49.102828\n",
       "KS                     48.242857\n",
       "NE                     45.239130\n",
       "CA                     44.639810\n",
       "LA                     42.666667\n",
       "DC                     42.562914\n",
       "IL                     41.822967\n",
       "NV                     40.086957\n",
       "NH                     39.029412\n",
       "MA                     38.774775\n",
       "WA                     38.453039\n",
       "ID                     38.092593\n",
       "AZ                     38.025806\n",
       "MS                     37.168831\n",
       "KY                     35.764228\n",
       "OK                     35.717949\n",
       "TN                     34.785185\n",
       "MI                     33.827225\n",
       "IN                     33.365385\n",
       "NC                     32.611111\n",
       "NJ                     30.475806\n",
       "NY                     29.940000\n",
       "OH                     29.783784\n",
       "WV                     29.466667\n",
       "AR                     28.098592\n",
       "PA                     27.440367\n",
       "CT                     26.134615\n",
       "MN                     25.833333\n",
       "RI                     25.750000\n",
       "SC                     24.625000\n",
       "MT                     24.064935\n",
       "OR                     23.340659\n",
       "WI                     22.982906\n",
       "WY                     20.102564\n",
       "IA                     19.941176\n",
       "ME                     17.448276\n",
       "DE                     15.592593\n",
       "SD                     14.868852\n",
       "ND                     10.477273"
      ]
     },
     "execution_count": 157,
     "metadata": {},
     "output_type": "execute_result"
    }
   ],
   "source": [
    "state_leased_parking"
   ]
  },
  {
   "cell_type": "code",
   "execution_count": 163,
   "metadata": {},
   "outputs": [
    {
     "data": {
      "text/plain": [
       "<BarContainer object of 49 artists>"
      ]
     },
     "execution_count": 163,
     "metadata": {},
     "output_type": "execute_result"
    },
    {
     "data": {
      "image/png": "[encoded data removed]",
      "text/plain": [
       "<Figure size 1080x576 with 1 Axes>"
      ]
     },
     "metadata": {
      "needs_background": "light"
     },
     "output_type": "display_data"
    }
   ],
   "source": [
    "plt.figure(figsize=(15,8))\n",
    "plt.bar(state_leased_parking.index, state_leased_parking['Total Parking Spaces'])"
   ]
  },
  {
   "cell_type": "markdown",
   "metadata": {},
   "source": [
    "## Q7 Which Property Type has more Active Parking"
   ]
  },
  {
   "cell_type": "code",
   "execution_count": 164,
   "metadata": {},
   "outputs": [
    {
     "data": {
      "text/html": [
       "<div>\n",
       "<style scoped>\n",
       "    .dataframe tbody tr th:only-of-type {\n",
       "        vertical-align: middle;\n",
       "    }\n",
       "\n",
       "    .dataframe tbody tr th {\n",
       "        vertical-align: top;\n",
       "    }\n",
       "\n",
       "    .dataframe thead th {\n",
       "        text-align: right;\n",
       "    }\n",
       "</style>\n",
       "<table border=\"1\" class=\"dataframe\">\n",
       "  <thead>\n",
       "    <tr style=\"text-align: right;\">\n",
       "      <th></th>\n",
       "      <th>Bldg City</th>\n",
       "      <th>Bldg State</th>\n",
       "      <th>Bldg Status</th>\n",
       "      <th>Property Type</th>\n",
       "      <th>Total Parking Spaces</th>\n",
       "      <th>Owned/Leased</th>\n",
       "    </tr>\n",
       "  </thead>\n",
       "  <tbody>\n",
       "    <tr>\n",
       "      <th>0</th>\n",
       "      <td>HARTFORD</td>\n",
       "      <td>CT</td>\n",
       "      <td>ACTIVE</td>\n",
       "      <td>BUILDING</td>\n",
       "      <td>29</td>\n",
       "      <td>OWNED</td>\n",
       "    </tr>\n",
       "    <tr>\n",
       "      <th>1</th>\n",
       "      <td>NEW HAVEN</td>\n",
       "      <td>CT</td>\n",
       "      <td>ACTIVE</td>\n",
       "      <td>BUILDING</td>\n",
       "      <td>0</td>\n",
       "      <td>OWNED</td>\n",
       "    </tr>\n",
       "    <tr>\n",
       "      <th>2</th>\n",
       "      <td>WATERBURY</td>\n",
       "      <td>CT</td>\n",
       "      <td>ACTIVE</td>\n",
       "      <td>BUILDING</td>\n",
       "      <td>2</td>\n",
       "      <td>LEASED</td>\n",
       "    </tr>\n",
       "    <tr>\n",
       "      <th>3</th>\n",
       "      <td>WILLIMANTIC</td>\n",
       "      <td>CT</td>\n",
       "      <td>ACTIVE</td>\n",
       "      <td>BUILDING</td>\n",
       "      <td>0</td>\n",
       "      <td>LEASED</td>\n",
       "    </tr>\n",
       "    <tr>\n",
       "      <th>4</th>\n",
       "      <td>HARTFORD</td>\n",
       "      <td>CT</td>\n",
       "      <td>ACTIVE</td>\n",
       "      <td>BUILDING</td>\n",
       "      <td>103</td>\n",
       "      <td>OWNED</td>\n",
       "    </tr>\n",
       "  </tbody>\n",
       "</table>\n",
       "</div>"
      ],
      "text/plain": [
       "     Bldg City Bldg State Bldg Status Property Type  Total Parking Spaces  \\\n",
       "0     HARTFORD         CT      ACTIVE      BUILDING                    29   \n",
       "1    NEW HAVEN         CT      ACTIVE      BUILDING                     0   \n",
       "2    WATERBURY         CT      ACTIVE      BUILDING                     2   \n",
       "3  WILLIMANTIC         CT      ACTIVE      BUILDING                     0   \n",
       "4     HARTFORD         CT      ACTIVE      BUILDING                   103   \n",
       "\n",
       "  Owned/Leased  \n",
       "0        OWNED  \n",
       "1        OWNED  \n",
       "2       LEASED  \n",
       "3       LEASED  \n",
       "4        OWNED  "
      ]
     },
     "execution_count": 164,
     "metadata": {},
     "output_type": "execute_result"
    }
   ],
   "source": [
    "parking.head()"
   ]
  },
  {
   "cell_type": "code",
   "execution_count": 211,
   "metadata": {},
   "outputs": [],
   "source": [
    "active_parking_property= parking[parking['Bldg Status'] == 'ACTIVE']"
   ]
  },
  {
   "cell_type": "code",
   "execution_count": 212,
   "metadata": {},
   "outputs": [],
   "source": [
    "k  = active_parking_property['Property Type'].value_counts()"
   ]
  },
  {
   "cell_type": "code",
   "execution_count": 213,
   "metadata": {},
   "outputs": [],
   "source": [
    "k = k.to_frame(name =\"values\")"
   ]
  },
  {
   "cell_type": "code",
   "execution_count": 215,
   "metadata": {},
   "outputs": [
    {
     "data": {
      "text/plain": [
       "BUILDING     8526\n",
       "STRUCTURE     336\n",
       "LAND          119\n",
       "Name: values, dtype: int64"
      ]
     },
     "execution_count": 215,
     "metadata": {},
     "output_type": "execute_result"
    }
   ],
   "source": [
    "k['values']"
   ]
  },
  {
   "cell_type": "code",
   "execution_count": 216,
   "metadata": {},
   "outputs": [
    {
     "data": {
      "text/plain": [
       "<BarContainer object of 3 artists>"
      ]
     },
     "execution_count": 216,
     "metadata": {},
     "output_type": "execute_result"
    },
    {
     "data": {
      "image/png": "[encoded data removed]",
      "text/plain": [
       "<Figure size 432x288 with 1 Axes>"
      ]
     },
     "metadata": {
      "needs_background": "light"
     },
     "output_type": "display_data"
    }
   ],
   "source": [
    "plt.bar(k.index, k['values'])"
   ]
  },
  {
   "cell_type": "markdown",
   "metadata": {},
   "source": [
    "## Q8 How is the distribution of parking in city by property Type"
   ]
  },
  {
   "cell_type": "code",
   "execution_count": 217,
   "metadata": {},
   "outputs": [],
   "source": [
    "dist_property = pd.pivot_table(parking, index= 'Property Type', values='Total Parking Spaces', aggfunc='count')"
   ]
  },
  {
   "cell_type": "code",
   "execution_count": 218,
   "metadata": {},
   "outputs": [
    {
     "data": {
      "text/html": [
       "<div>\n",
       "<style scoped>\n",
       "    .dataframe tbody tr th:only-of-type {\n",
       "        vertical-align: middle;\n",
       "    }\n",
       "\n",
       "    .dataframe tbody tr th {\n",
       "        vertical-align: top;\n",
       "    }\n",
       "\n",
       "    .dataframe thead th {\n",
       "        text-align: right;\n",
       "    }\n",
       "</style>\n",
       "<table border=\"1\" class=\"dataframe\">\n",
       "  <thead>\n",
       "    <tr style=\"text-align: right;\">\n",
       "      <th></th>\n",
       "      <th>Total Parking Spaces</th>\n",
       "    </tr>\n",
       "    <tr>\n",
       "      <th>Property Type</th>\n",
       "      <th></th>\n",
       "    </tr>\n",
       "  </thead>\n",
       "  <tbody>\n",
       "    <tr>\n",
       "      <th>BUILDING</th>\n",
       "      <td>8602</td>\n",
       "    </tr>\n",
       "    <tr>\n",
       "      <th>LAND</th>\n",
       "      <td>119</td>\n",
       "    </tr>\n",
       "    <tr>\n",
       "      <th>STRUCTURE</th>\n",
       "      <td>339</td>\n",
       "    </tr>\n",
       "  </tbody>\n",
       "</table>\n",
       "</div>"
      ],
      "text/plain": [
       "               Total Parking Spaces\n",
       "Property Type                      \n",
       "BUILDING                       8602\n",
       "LAND                            119\n",
       "STRUCTURE                       339"
      ]
     },
     "execution_count": 218,
     "metadata": {},
     "output_type": "execute_result"
    }
   ],
   "source": [
    "dist_property"
   ]
  },
  {
   "cell_type": "code",
   "execution_count": 219,
   "metadata": {},
   "outputs": [
    {
     "data": {
      "text/plain": [
       "<matplotlib.axes._subplots.AxesSubplot at 0x1a6ac606f48>"
      ]
     },
     "execution_count": 219,
     "metadata": {},
     "output_type": "execute_result"
    },
    {
     "data": {
      "image/png": "[encoded data removed]",
      "text/plain": [
       "<Figure size 432x288 with 1 Axes>"
      ]
     },
     "metadata": {
      "needs_background": "light"
     },
     "output_type": "display_data"
    }
   ],
   "source": [
    "dist_property.plot(kind='bar')"
   ]
  }
 ],
 "metadata": {
  "kernelspec": {
   "display_name": "Python 3",
   "language": "python",
   "name": "python3"
  },
  "language_info": {
   "codemirror_mode": {
    "name": "ipython",
    "version": 3
   },
   "file_extension": ".py",
   "mimetype": "text/x-python",
   "name": "python",
   "nbconvert_exporter": "python",
   "pygments_lexer": "ipython3",
   "version": "3.7.6"
  }
 },
 "nbformat": 4,
 "nbformat_minor": 4
}
